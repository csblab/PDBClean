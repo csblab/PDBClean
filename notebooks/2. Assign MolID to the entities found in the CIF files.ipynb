{
 "cells": [
  {
   "cell_type": "markdown",
   "metadata": {},
   "source": [
    "# 2. Assign MolID to the entities found in the CIF files"
   ]
  },
  {
   "cell_type": "code",
   "execution_count": 13,
   "metadata": {},
   "outputs": [],
   "source": [
    "from PDBClean import pdbclean_io"
   ]
  },
  {
   "cell_type": "markdown",
   "metadata": {},
   "source": [
    "We make sure the newly created files have a place to stay. Below we illustrate the use of the optional `action` argument."
   ]
  },
  {
   "cell_type": "code",
   "execution_count": 2,
   "metadata": {},
   "outputs": [
    {
     "name": "stdout",
     "output_type": "stream",
     "text": [
      "Deleting ../examples/AKproject/standard_MolID_bank...\n",
      "Cleaning ../examples/AKproject/standard_MolID_bank...\n",
      "Deleting ../examples/AKproject/standard_MolID_bank...\n",
      "../examples/AKproject/standard_MolID_bank already exists, with content:\n",
      "['info.txt']\n"
     ]
    }
   ],
   "source": [
    "PROJDIR='../examples/AKproject'\n",
    "pdbclean_io.check_project(projdir=PROJDIR, action='delete', level='standard_MolID_bank')\n",
    "pdbclean_io.check_project(projdir=PROJDIR, action='create', level='standard_MolID_bank')\n",
    "pdbclean_io.check_project(projdir=PROJDIR, action='clean', level='standard_MolID_bank')\n",
    "pdbclean_io.check_project(projdir=PROJDIR, action='delete', level='standard_MolID_bank')\n",
    "pdbclean_io.check_project(projdir=PROJDIR, action='create', level='standard_MolID_bank')\n",
    "pdbclean_io.check_project(projdir=PROJDIR, action='create', level='standard_MolID_bank')"
   ]
  },
  {
   "cell_type": "markdown",
   "metadata": {},
   "source": [
    "Play the recording below for a tutorial on how to use `PDBClean_MolID_CIF.py` to curate the MolID in the ensemble:"
   ]
  },
  {
   "cell_type": "code",
   "execution_count": 12,
   "metadata": {},
   "outputs": [
    {
     "data": {
      "text/html": [
       "<script id=\"asciicast-BTaOVoQlgf4NzmgaxXNYB6kM1\" src=\"https://asciinema.org/a/BTaOVoQlgf4NzmgaxXNYB6kM1.js\" async></script>"
      ],
      "text/plain": [
       "<IPython.core.display.HTML object>"
      ]
     },
     "metadata": {},
     "output_type": "display_data"
    }
   ],
   "source": [
    "%%html\n",
    "<script id=\"asciicast-BTaOVoQlgf4NzmgaxXNYB6kM1\" src=\"https://asciinema.org/a/BTaOVoQlgf4NzmgaxXNYB6kM1.js\" async></script>"
   ]
  }
 ],
 "metadata": {
  "kernelspec": {
   "display_name": "Python 3",
   "language": "python",
   "name": "python3"
  },
  "language_info": {
   "codemirror_mode": {
    "name": "ipython",
    "version": 3
   },
   "file_extension": ".py",
   "mimetype": "text/x-python",
   "name": "python",
   "nbconvert_exporter": "python",
   "pygments_lexer": "ipython3",
   "version": "3.6.3"
  }
 },
 "nbformat": 4,
 "nbformat_minor": 2
}
