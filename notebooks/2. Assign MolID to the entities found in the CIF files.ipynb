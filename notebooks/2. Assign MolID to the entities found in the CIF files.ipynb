{
 "cells": [
  {
   "cell_type": "markdown",
   "metadata": {},
   "source": [
    "# 2. Assign MolID to the entities found in the CIF files\n",
    "\n",
    "**This notebook: [see on github](https://github.com/csblab/PDBClean/blob/master/notebooks/2.%20Assign%20MolID%20to%20the%20entities%20found%20in%20the%20CIF%20files.ipynb) or [run on google colab](https://colab.research.google.com/github/csblab/PDBClean/blob/master/notebooks/2.%20Assign%20MolID%20to%20the%20entities%20found%20in%20the%20CIF%20files.ipynb)**"
   ]
  },
  {
   "cell_type": "code",
   "execution_count": 2,
   "metadata": {},
   "outputs": [],
   "source": [
    "colab=False\n",
    "if colab:\n",
    "    RUNDIR='./'\n",
    "else:\n",
    "    RUNDIR='../examples/'"
   ]
  },
  {
   "cell_type": "code",
   "execution_count": 3,
   "metadata": {},
   "outputs": [],
   "source": [
    "from PDBClean import pdbclean_io, cleanutils"
   ]
  },
  {
   "cell_type": "markdown",
   "metadata": {},
   "source": [
    "We make sure the newly created files have a place to stay. Below we illustrate the use of the optional `action` argument."
   ]
  },
  {
   "cell_type": "code",
   "execution_count": 2,
   "metadata": {},
   "outputs": [
    {
     "name": "stdout",
     "output_type": "stream",
     "text": [
      "Deleting ../examples/AKproject/standard_MolID_bank...\n",
      "Cleaning ../examples/AKproject/standard_MolID_bank...\n",
      "Deleting ../examples/AKproject/standard_MolID_bank...\n",
      "../examples/AKproject/standard_MolID_bank already exists, with content:\n",
      "['info.txt']\n"
     ]
    }
   ],
   "source": [
    "PROJDIR='../examples/AKproject'\n",
    "pdbclean_io.check_project(projdir=PROJDIR, action='delete', level='standard_MolID_bank')\n",
    "pdbclean_io.check_project(projdir=PROJDIR, action='create', level='standard_MolID_bank')\n",
    "pdbclean_io.check_project(projdir=PROJDIR, action='clean', level='standard_MolID_bank')\n",
    "pdbclean_io.check_project(projdir=PROJDIR, action='delete', level='standard_MolID_bank')\n",
    "pdbclean_io.check_project(projdir=PROJDIR, action='create', level='standard_MolID_bank')\n",
    "pdbclean_io.check_project(projdir=PROJDIR, action='create', level='standard_MolID_bank')"
   ]
  },
  {
   "cell_type": "markdown",
   "metadata": {},
   "source": [
    "Play the recording below (also accessible [here](https://asciinema.org/a/BTaOVoQlgf4NzmgaxXNYB6kM1)) for a tutorial on how to use `PDBClean_MolID_CIF.py` to curate the MolID in the ensemble:"
   ]
  },
  {
   "cell_type": "code",
   "execution_count": 12,
   "metadata": {},
   "outputs": [
    {
     "data": {
      "text/html": [
       "<script id=\"asciicast-BTaOVoQlgf4NzmgaxXNYB6kM1\" src=\"https://asciinema.org/a/BTaOVoQlgf4NzmgaxXNYB6kM1.js\" async></script>"
      ],
      "text/plain": [
       "<IPython.core.display.HTML object>"
      ]
     },
     "metadata": {},
     "output_type": "display_data"
    }
   ],
   "source": [
    "%%html\n",
    "<script id=\"asciicast-BTaOVoQlgf4NzmgaxXNYB6kM1\" src=\"https://asciinema.org/a/BTaOVoQlgf4NzmgaxXNYB6kM1.js\" async></script>"
   ]
  },
  {
   "cell_type": "markdown",
   "metadata": {},
   "source": [
    "### Extra:\n",
    "an extra step to fix the `HETATM` lines in the `.cif` files"
   ]
  },
  {
   "cell_type": "code",
   "execution_count": 14,
   "metadata": {},
   "outputs": [],
   "source": [
    "pdbclean_io.check_project(projdir=PROJDIR, level='fixHET_bank')"
   ]
  },
  {
   "cell_type": "code",
   "execution_count": 17,
   "metadata": {},
   "outputs": [
    {
     "name": "stdout",
     "output_type": "stream",
     "text": [
      "[1/24]: 1kht+01.cif\n",
      "[2/24]: 1kht+02.cif\n",
      "[3/24]: 1ki9+01.cif\n",
      "[4/24]: 1ki9+02.cif\n",
      "[5/24]: 2ar7+01.cif\n",
      "[6/24]: 2ar7+02.cif\n",
      "[7/24]: 2ar7+03.cif\n",
      "[8/24]: 2ar7+04.cif\n",
      "[9/24]: 2ar7+05.cif\n",
      "[10/24]: 2ar7+06.cif\n",
      "[11/24]: 2ar7+07.cif\n",
      "[12/24]: 2bbw+01.cif\n",
      "[13/24]: 2bbw+02.cif\n",
      "[14/24]: 5x6k+01.cif\n",
      "[15/24]: 5x6k+02.cif\n",
      "[16/24]: 5x6l+01.cif\n",
      "[17/24]: 5x6l+02.cif\n",
      "[18/24]: 5xru+01.cif\n",
      "[19/24]: 5xru+02.cif\n",
      "[20/24]: 5ycb+01.cif\n",
      "[21/24]: 5ycb+02.cif\n",
      "[22/24]: 5ycc+01.cif\n",
      "[23/24]: 5ycc+02.cif\n",
      "[24/24]: 6hf7+00.cif\n"
     ]
    }
   ],
   "source": [
    "cleanutils.process(projdir=PROJDIR, step='fixhet', source='standard_MolID_bank', target='fixHET_bank')"
   ]
  },
  {
   "cell_type": "code",
   "execution_count": null,
   "metadata": {},
   "outputs": [],
   "source": []
  }
 ],
 "metadata": {
  "kernelspec": {
   "display_name": "Python 3",
   "language": "python",
   "name": "python3"
  },
  "language_info": {
   "codemirror_mode": {
    "name": "ipython",
    "version": 3
   },
   "file_extension": ".py",
   "mimetype": "text/x-python",
   "name": "python",
   "nbconvert_exporter": "python",
   "pygments_lexer": "ipython3",
   "version": "3.6.3"
  }
 },
 "nbformat": 4,
 "nbformat_minor": 2
}
