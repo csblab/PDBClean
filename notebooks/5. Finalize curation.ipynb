{
 "cells": [
  {
   "cell_type": "markdown",
   "metadata": {},
   "source": [
    "# 5. Finalize curation\n",
    "\n",
    "**This notebook: [see on github](https://github.com/csblab/PDBClean/blob/master/notebooks/5.%20Finalize%20curation.ipynb) or [run on google colab](https://colab.research.google.com/github/csblab/PDBClean/blob/master/notebooks/5.%20Finalize%20curation.ipynb)**"
   ]
  },
  {
   "cell_type": "code",
   "execution_count": 1,
   "metadata": {},
   "outputs": [],
   "source": [
    "colab=False\n",
    "if colab:\n",
    "    RUNDIR='./'\n",
    "else:\n",
    "    RUNDIR='../examples/'"
   ]
  },
  {
   "cell_type": "code",
   "execution_count": 2,
   "metadata": {},
   "outputs": [],
   "source": [
    "from PDBClean import pdbclean_io, cleanutils"
   ]
  },
  {
   "cell_type": "markdown",
   "metadata": {},
   "source": [
    "We initialized the directory in the project, where the new standardized files will be stored"
   ]
  },
  {
   "cell_type": "code",
   "execution_count": 3,
   "metadata": {},
   "outputs": [
    {
     "name": "stdout",
     "output_type": "stream",
     "text": [
      "../examples/AKproject/final_bank already exists, with content:\n",
      "['info.txt', '2ar7+06.cif', '2ar7+07.cif', '2bbw+01.cif', '2bbw+02.cif', '5x6k+01.cif', '5x6k+02.cif', '5x6l+01.cif', '5x6l+02.cif', '5xru+01.cif', '5xru+02.cif', '5ycb+01.cif', '5ycb+02.cif', '5ycc+01.cif', '5ycc+02.cif']\n"
     ]
    }
   ],
   "source": [
    "PROJDIR=RUNDIR+'AKproject'\n",
    "pdbclean_io.check_project(projdir=PROJDIR, action='create', level='final_bank')"
   ]
  },
  {
   "cell_type": "code",
   "execution_count": 5,
   "metadata": {},
   "outputs": [
    {
     "name": "stdout",
     "output_type": "stream",
     "text": [
      "[1/14]: 2ar7+06.cif\n",
      "[2/14]: 2ar7+07.cif\n",
      "[3/14]: 2bbw+01.cif\n",
      "[4/14]: 2bbw+02.cif\n",
      "[5/14]: 5x6k+01.cif\n",
      "[6/14]: 5x6k+02.cif\n",
      "[7/14]: 5x6l+01.cif\n",
      "[8/14]: 5x6l+02.cif\n",
      "[9/14]: 5xru+01.cif\n",
      "[10/14]: 5xru+02.cif\n",
      "[11/14]: 5ycb+01.cif\n",
      "[12/14]: 5ycb+02.cif\n",
      "[13/14]: 5ycc+01.cif\n",
      "[14/14]: 5ycc+02.cif\n"
     ]
    }
   ],
   "source": [
    "cleanutils.process(projdir=PROJDIR, step='finalize', source='standard_ResidueID_bank', target='final_bank')"
   ]
  },
  {
   "cell_type": "code",
   "execution_count": null,
   "metadata": {},
   "outputs": [],
   "source": []
  }
 ],
 "metadata": {
  "kernelspec": {
   "display_name": "Python 3",
   "language": "python",
   "name": "python3"
  },
  "language_info": {
   "codemirror_mode": {
    "name": "ipython",
    "version": 3
   },
   "file_extension": ".py",
   "mimetype": "text/x-python",
   "name": "python",
   "nbconvert_exporter": "python",
   "pygments_lexer": "ipython3",
   "version": "3.6.3"
  }
 },
 "nbformat": 4,
 "nbformat_minor": 2
}
