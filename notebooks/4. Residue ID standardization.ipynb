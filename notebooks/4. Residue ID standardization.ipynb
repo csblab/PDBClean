{
 "cells": [
  {
   "cell_type": "markdown",
   "metadata": {},
   "source": [
    "# 4. Residue ID standardization\n",
    "\n",
    "**This notebook: [see on github](https://github.com/csblab/PDBClean/blob/master/notebooks/4.%20Residue%20ID%20standardization.ipynb) or [run on google colab](https://colab.research.google.com/github/csblab/PDBClean/blob/master/notebooks/4.%20Residue%20ID%20standardization.ipynb)**"
   ]
  },
  {
   "cell_type": "code",
   "execution_count": 2,
   "metadata": {},
   "outputs": [],
   "source": [
    "colab=False\n",
    "if colab:\n",
    "    RUNDIR='./'\n",
    "else:\n",
    "    RUNDIR='../examples/'"
   ]
  },
  {
   "cell_type": "code",
   "execution_count": 3,
   "metadata": {},
   "outputs": [],
   "source": [
    "from PDBClean import pdbclean_io"
   ]
  },
  {
   "cell_type": "markdown",
   "metadata": {},
   "source": [
    "We initialized the directory in the project, where the new standardized files will be stored"
   ]
  },
  {
   "cell_type": "code",
   "execution_count": 4,
   "metadata": {},
   "outputs": [
    {
     "name": "stdout",
     "output_type": "stream",
     "text": [
      "../examples/AKproject/standard_ResidueID_bank already exists, with content:\n",
      "['info.txt', '2ar7+06.cif', '2ar7+07.cif', '2bbw+01.cif', '2bbw+02.cif', '5x6k+01.cif', '5x6k+02.cif', '5x6l+01.cif', '5x6l+02.cif', '5xru+01.cif', '5xru+02.cif', '5ycb+01.cif', '5ycb+02.cif', '5ycc+01.cif', '5ycc+02.cif']\n"
     ]
    }
   ],
   "source": [
    "PROJDIR=RUNDIR+'AKproject'\n",
    "pdbclean_io.check_project(projdir=PROJDIR, action='create', level='standard_ResidueID_bank')"
   ]
  },
  {
   "cell_type": "markdown",
   "metadata": {},
   "source": [
    "Play the recording below (also accessible [here](https://asciinema.org/a/tJ8NXFuHGlgAUJe6Zm0bYMjCd)) for a tutorial on how to use `PDBClean_ResidueStandardization_CIF.py` to curate the Residue ID in the ensemble:"
   ]
  },
  {
   "cell_type": "code",
   "execution_count": 3,
   "metadata": {},
   "outputs": [
    {
     "data": {
      "text/html": [
       "<script id=\"asciicast-tJ8NXFuHGlgAUJe6Zm0bYMjCd\" src=\"https://asciinema.org/a/tJ8NXFuHGlgAUJe6Zm0bYMjCd.js\" async></script>"
      ],
      "text/plain": [
       "<IPython.core.display.HTML object>"
      ]
     },
     "metadata": {},
     "output_type": "display_data"
    }
   ],
   "source": [
    "%%html\n",
    "<script id=\"asciicast-tJ8NXFuHGlgAUJe6Zm0bYMjCd\" src=\"https://asciinema.org/a/tJ8NXFuHGlgAUJe6Zm0bYMjCd.js\" async></script>"
   ]
  },
  {
   "cell_type": "code",
   "execution_count": null,
   "metadata": {},
   "outputs": [],
   "source": []
  }
 ],
 "metadata": {
  "kernelspec": {
   "display_name": "Python 3",
   "language": "python",
   "name": "python3"
  },
  "language_info": {
   "codemirror_mode": {
    "name": "ipython",
    "version": 3
   },
   "file_extension": ".py",
   "mimetype": "text/x-python",
   "name": "python",
   "nbconvert_exporter": "python",
   "pygments_lexer": "ipython3",
   "version": "3.6.3"
  }
 },
 "nbformat": 4,
 "nbformat_minor": 2
}
