{
 "cells": [
  {
   "cell_type": "markdown",
   "metadata": {},
   "source": [
    "# Chain and atom selection"
   ]
  },
  {
   "cell_type": "code",
   "execution_count": 1,
   "metadata": {},
   "outputs": [],
   "source": [
    "colab=False\n",
    "local_relative_path='../examples/'\n",
    "project_name='AKproject'"
   ]
  },
  {
   "cell_type": "code",
   "execution_count": 2,
   "metadata": {},
   "outputs": [],
   "source": [
    "%matplotlib inline\n",
    "from PDBClean import pdbclean_io as pcio\n",
    "from PDBClean import pdbclean_process as pcx"
   ]
  },
  {
   "cell_type": "code",
   "execution_count": 3,
   "metadata": {},
   "outputs": [
    {
     "name": "stdout",
     "output_type": "stream",
     "text": [
      "../examples/AKproject/sel_bank already exists, with content:\n",
      "['info.txt', '2ar7+06.cif', '2ar7+07.cif', '2bbw+01.cif', '2bbw+02.cif', '5x6k+01.cif', '5x6k+02.cif', '5x6l+01.cif', '5x6l+02.cif', '5xru+01.cif', '5xru+02.cif', '5ycb+01.cif', '5ycb+02.cif', '5ycc+01.cif', '5ycc+02.cif']\n"
     ]
    }
   ],
   "source": [
    "RUNDIR  = pcio.define_rundir(local_relative_path, colab=colab)\n",
    "PROJDIR = RUNDIR+project_name\n",
    "pcio.check_project(projdir=PROJDIR, action='create', level='sel_bank')"
   ]
  },
  {
   "cell_type": "code",
   "execution_count": 4,
   "metadata": {},
   "outputs": [
    {
     "name": "stdout",
     "output_type": "stream",
     "text": [
      "{'chains': 'A', 'atoms': ('CA',)}\n",
      "Building keychain from all files. Length of keychain: \n",
      "226<221<221<221<226<226<227<227<227<227<230<230<230<230<3\n",
      "[1/14]: ../examples/AKproject/sel_bank/2ar7+06.cif\n",
      "[2/14]: ../examples/AKproject/sel_bank/2ar7+07.cif\n",
      "[3/14]: ../examples/AKproject/sel_bank/2bbw+01.cif\n",
      "[4/14]: ../examples/AKproject/sel_bank/2bbw+02.cif\n",
      "[5/14]: ../examples/AKproject/sel_bank/5x6k+01.cif\n",
      "[6/14]: ../examples/AKproject/sel_bank/5x6k+02.cif\n",
      "[7/14]: ../examples/AKproject/sel_bank/5x6l+01.cif\n",
      "[8/14]: ../examples/AKproject/sel_bank/5x6l+02.cif\n",
      "[9/14]: ../examples/AKproject/sel_bank/5xru+01.cif\n",
      "[10/14]: ../examples/AKproject/sel_bank/5xru+02.cif\n",
      "[11/14]: ../examples/AKproject/sel_bank/5ycb+01.cif\n",
      "[12/14]: ../examples/AKproject/sel_bank/5ycb+02.cif\n",
      "[13/14]: ../examples/AKproject/sel_bank/5ycc+01.cif\n",
      "[14/14]: ../examples/AKproject/sel_bank/5ycc+02.cif\n"
     ]
    }
   ],
   "source": [
    "pcx.process(projdir=PROJDIR, source='final_bank', target='sel_bank',\n",
    "            verbose=True, show=True,\n",
    "            step='select', chains=('A'), atoms=('CA',))"
   ]
  },
  {
   "cell_type": "code",
   "execution_count": null,
   "metadata": {},
   "outputs": [],
   "source": []
  }
 ],
 "metadata": {
  "kernelspec": {
   "display_name": "Python 3",
   "language": "python",
   "name": "python3"
  },
  "language_info": {
   "codemirror_mode": {
    "name": "ipython",
    "version": 3
   },
   "file_extension": ".py",
   "mimetype": "text/x-python",
   "name": "python",
   "nbconvert_exporter": "python",
   "pygments_lexer": "ipython3",
   "version": "3.6.3"
  }
 },
 "nbformat": 4,
 "nbformat_minor": 2
}
