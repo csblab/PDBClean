{
 "cells": [
  {
   "cell_type": "markdown",
   "metadata": {},
   "source": [
    "# Binary integer programming\n",
    "\n",
    "**This notebook: [see on github](https://github.com/csblab/PDBClean/blob/master/notebooks/Binary%20Integer%20Programming.ipynb) or [run on google colab](https://colab.research.google.com/github/csblab/PDBClean/blob/master/notebooks/Binary%20Integer%20Programming.ipynb)**\n",
    "\n",
    "We are interested in a particular type of constrained optimization, where the objective function is linear or quadratic, the variable to solve is a binary integer that needs to satisfy a set of inequality constraints. \n",
    "\n",
    "see [this](http://www.sce.carleton.ca/faculty/chinneck/po/Chapter13.pdf), [this](https://nbviewer.jupyter.org/url/modernscientist.github.com/notebooks/BinaryIntegerProgramming.ipynb), [this](https://mathematica.stackexchange.com/questions/108299/given-a-large-binary-matrix-find-the-largest-submatrix-containing-non-zero-elem), and also [this](https://mathematica.stackexchange.com/questions/108299/given-a-large-binary-matrix-find-the-largest-submatrix-containing-non-zero-elem)\n",
    "\n",
    "\n",
    "\n"
   ]
  },
  {
   "cell_type": "code",
   "execution_count": 1,
   "metadata": {},
   "outputs": [],
   "source": [
    "import numpy as np"
   ]
  },
  {
   "cell_type": "code",
   "execution_count": 2,
   "metadata": {},
   "outputs": [],
   "source": [
    "import cvxopt\n",
    "from cvxopt import glpk\n",
    "from cvxopt import matrix"
   ]
  },
  {
   "cell_type": "code",
   "execution_count": 3,
   "metadata": {
    "scrolled": false
   },
   "outputs": [
    {
     "name": "stdout",
     "output_type": "stream",
     "text": [
      "Help on built-in function ilp in module cvxopt.glpk:\n",
      "\n",
      "ilp(...)\n",
      "    Solves a mixed integer linear program using GLPK.\n",
      "    \n",
      "    (status, x) = ilp(c, G, h, A, b, I, B)\n",
      "    \n",
      "    PURPOSE\n",
      "    Solves the mixed integer linear programming problem\n",
      "    \n",
      "        minimize    c'*x\n",
      "        subject to  G*x <= h\n",
      "                    A*x = b\n",
      "                    x[k] is integer for k in I\n",
      "                    x[k] is binary for k in B\n",
      "    \n",
      "    ARGUMENTS\n",
      "    c            nx1 dense 'd' matrix with n>=1\n",
      "    \n",
      "    G            mxn dense or sparse 'd' matrix with m>=1\n",
      "    \n",
      "    h            mx1 dense 'd' matrix\n",
      "    \n",
      "    A            pxn dense or sparse 'd' matrix with p>=0\n",
      "    \n",
      "    b            px1 dense 'd' matrix\n",
      "    \n",
      "    I            set of indices of integer variables\n",
      "    \n",
      "    B            set of indices of binary variables\n",
      "    \n",
      "    status       if status is 'optimal', 'feasible', or 'undefined',\n",
      "                 a value of x is returned and the status string \n",
      "                 gives the status of x.  Other possible values of              status are:  'invalid formulation', \n",
      "                 'infeasible problem', 'LP relaxation is primal \n",
      "                 infeasible', 'LP relaxation is dual infeasible', \n",
      "                 'unknown'.\n",
      "    \n",
      "    x            a (sub-)optimal solution if status is 'optimal', \n",
      "                 'feasible', or 'undefined'.  None otherwise\n",
      "\n"
     ]
    }
   ],
   "source": [
    "help(glpk.ilp)"
   ]
  },
  {
   "cell_type": "markdown",
   "metadata": {},
   "source": [
    "## Application to our problem\n",
    "\n",
    "We are given a binary matrix $A$ for `n_sample (n)` samples with `n_feature (m)` features, with elements $a_{ij}$, where $a_{ij}$ is 1 if the feature is present in the sample, and zero otherwise.\n",
    "\n",
    "We want to determine the values of the following variables ($i \\in [1,m]$ and $j \\in [1,n]$), all $\\in {0,1}$:\n",
    "- $e_{ij}$: it is $1$ if we want to remove $(i,j)$, else it is $0$\n",
    "- $r_{i}$: it is $1$ if we remove row $i$, else it is $0$\n",
    "- $c_{j}$: it is $1$ if we remove column $j$, else it is $0$\n",
    "\n",
    "subject to:\n",
    "- $a_{ij} = 0 \\implies e_{ij}=1$\n",
    "- $r_{i} + c_{j} \\ge e_{ij}$\n",
    "- $e_{ij} \\ge r_{i}$\n",
    "- $e_{ij} \\ge c_{j}$\n",
    "\n",
    "minimizing the objective function $Z = \\sum_{ij}\\ e_{ij}$."
   ]
  },
  {
   "cell_type": "markdown",
   "metadata": {},
   "source": [
    "Let's package this problem so we can solve it with `glpk.ilp`:\n",
    "\n",
    "We introduce the vectors:\n",
    "- $r = \\{r_{i}\\}_{m}$\n",
    "- $c = \\{c_{j}\\}_{n}$\n",
    "- $e = \\{e_{ij}\\}_{m\\times n}$\n",
    "\n",
    "$x^{T} = [r^{T}, c^{T}, e^{T}]$\n",
    "\n",
    "$w^{T} = [\\{0\\}_{m},\\{0\\}_{n},\\{1\\}_{m\\times n}]$\n",
    "\n",
    "So that the score function is $Z = w^{T}x$\n",
    "\n",
    "**before proceeding, run the Toolkit cells at the end of this notebook!**"
   ]
  },
  {
   "cell_type": "code",
   "execution_count": 6,
   "metadata": {},
   "outputs": [],
   "source": [
    "%matplotlib inline\n",
    "from matplotlib import pyplot as plt"
   ]
  },
  {
   "cell_type": "markdown",
   "metadata": {},
   "source": [
    "Let's build a m/n_feature-by-n/n_sample binary matrix with n_zeros zeros randomly located"
   ]
  },
  {
   "cell_type": "code",
   "execution_count": 7,
   "metadata": {},
   "outputs": [
    {
     "name": "stdout",
     "output_type": "stream",
     "text": [
      "A.shape = (50, 10)\n"
     ]
    },
    {
     "data": {
      "image/png": "[encoded data removed]",
      "text/plain": [
       "<Figure size 288x288 with 2 Axes>"
      ]
     },
     "metadata": {},
     "output_type": "display_data"
    }
   ],
   "source": [
    "n=10\n",
    "m=50\n",
    "n_zeros=100\n",
    "A = build_A(n_sample=n,n_feature=m, n_zeros=n_zeros)\n",
    "show_matrix(A)"
   ]
  },
  {
   "cell_type": "markdown",
   "metadata": {},
   "source": [
    "Now let's build the $G$ matrix for each of our 4 constraints. \n",
    "We first define $G$ and $h$ as if the problem was $\\mathbf{G}\\mathbf{x} \\geq \\mathbf{h}$, and multiply them by $-1$ at the end to frame the problem as $\\mathbf{G}\\mathbf{x} \\leq \\mathbf{h}$ so it can be solved by `glpk`. All G matrices are the concatenation of $G_r$, $G_c$ and $G_e$ matrices. All have $m\\times n$ rows, corresponding to the constraints, and as many column as their respective unknown variable ($m$ for $r$, $n$ for $c$ amd $m\\times n$ for $e$).\n",
    "\n",
    "First constraint $\\mathbf{G}_{1}\\mathbf{x} \\geq \\mathbf{h}_{1}$: we set $\\mathbf{h}_{1}$ to $0$ everywhere except when (flattened) $\\mathbf{A}$ is zero, then we set $\\mathbf{h}_{1}$ to $1$. $\\mathbf{G}_{r}$ and $\\mathbf{G}_{c}$ are zeros, and $\\mathbf{G}_{e}$ is the identity matrix."
   ]
  },
  {
   "cell_type": "code",
   "execution_count": 8,
   "metadata": {},
   "outputs": [
    {
     "name": "stdout",
     "output_type": "stream",
     "text": [
      "... Gr built\n",
      "... Gc built\n",
      "... Ge built\n",
      "G.shape = (500, 560)\n",
      "h.shape = (500,)\n"
     ]
    },
    {
     "data": {
      "image/png": "[encoded data removed]",
      "text/plain": [
       "<Figure size 288x288 with 2 Axes>"
      ]
     },
     "metadata": {},
     "output_type": "display_data"
    }
   ],
   "source": [
    "G1 = build_G(A, constraint=1)\n",
    "h1 = build_h(A, constraint=1)\n",
    "show_matrix(G1)"
   ]
  },
  {
   "cell_type": "markdown",
   "metadata": {},
   "source": [
    "Second constraint $\\mathbf{G}_{2}\\mathbf{x} \\geq \\mathbf{h}_{2}$: we set $\\mathbf{h}_{2}$ to $0$ everywhere. $\\mathbf{G}_{r}$ is zero except for $i$ and $\\mathbf{G}_{c}$ is a series of $m$ $n\\times n$ identity matrices, and $\\mathbf{G}_{e}$ is the identity matrix multiplied by $-1$."
   ]
  },
  {
   "cell_type": "code",
   "execution_count": 9,
   "metadata": {},
   "outputs": [
    {
     "name": "stdout",
     "output_type": "stream",
     "text": [
      "... Gr built\n",
      "... Gc built\n",
      "... Ge built\n",
      "G.shape = (500, 560)\n",
      "h.shape = (500,)\n"
     ]
    },
    {
     "data": {
      "image/png": "[encoded data removed]",
      "text/plain": [
       "<Figure size 288x288 with 2 Axes>"
      ]
     },
     "metadata": {},
     "output_type": "display_data"
    }
   ],
   "source": [
    "G2 = build_G(A, constraint=2)\n",
    "h2 = build_h(A, constraint=2)\n",
    "show_matrix(G2)"
   ]
  },
  {
   "cell_type": "markdown",
   "metadata": {},
   "source": [
    "Third constraint $\\mathbf{G}_{3}\\mathbf{x} \\geq \\mathbf{h}_{3}$: we set $\\mathbf{h}_{3}$ to $0$ everywhere. $\\mathbf{G}_{r}$ is zero except for $i$ where it is -1, $\\mathbf{G}_{c}$ is $0$ everywhere and $\\mathbf{G}_{e}$ is the identity matrix."
   ]
  },
  {
   "cell_type": "code",
   "execution_count": 10,
   "metadata": {},
   "outputs": [
    {
     "name": "stdout",
     "output_type": "stream",
     "text": [
      "... Gr built\n",
      "... Gc built\n",
      "... Ge built\n",
      "G.shape = (500, 560)\n",
      "h.shape = (500,)\n"
     ]
    },
    {
     "data": {
      "image/png": "[encoded data removed]",
      "text/plain": [
       "<Figure size 288x288 with 2 Axes>"
      ]
     },
     "metadata": {},
     "output_type": "display_data"
    }
   ],
   "source": [
    "G3 = build_G(A, constraint=3)\n",
    "h3 = build_h(A, constraint=3)\n",
    "show_matrix(G3)"
   ]
  },
  {
   "cell_type": "markdown",
   "metadata": {},
   "source": [
    "Fourth constraint $\\mathbf{G}_{4}\\mathbf{x} \\geq \\mathbf{h}_{4}$: we set $\\mathbf{h}_{4}$ to $0$ everywhere. $\\mathbf{G}_{r}$ is zero everywhere, $\\mathbf{G}_{c}$ is a series of $m$ $n\\times n$ identity matrices multiplied by $-1$ and $\\mathbf{G}_{e}$ is the identity matrix."
   ]
  },
  {
   "cell_type": "code",
   "execution_count": 11,
   "metadata": {},
   "outputs": [
    {
     "name": "stdout",
     "output_type": "stream",
     "text": [
      "... Gr built\n",
      "... Gc built\n",
      "... Ge built\n",
      "G.shape = (500, 560)\n",
      "h.shape = (500,)\n"
     ]
    },
    {
     "data": {
      "image/png": "[encoded data removed]",
      "text/plain": [
       "<Figure size 288x288 with 2 Axes>"
      ]
     },
     "metadata": {},
     "output_type": "display_data"
    }
   ],
   "source": [
    "G4 = build_G(A, constraint=4)\n",
    "h4 = build_h(A, constraint=4)\n",
    "show_matrix(G4)"
   ]
  },
  {
   "cell_type": "markdown",
   "metadata": {},
   "source": [
    "We now assemble the full $G$ matrix and $h$ vector, as well as build the weight vector for the score function."
   ]
  },
  {
   "cell_type": "code",
   "execution_count": 29,
   "metadata": {},
   "outputs": [
    {
     "name": "stdout",
     "output_type": "stream",
     "text": [
      "G.shape = (2000, 560)\n",
      "h.shape = (2000,)\n",
      "w.shape = (560,)\n"
     ]
    }
   ],
   "source": [
    "G = assemble_G(A,G1,G2,G3,G4)\n",
    "h = assemble_h(A,h1,h2,h3,h4)\n",
    "w = assemble_w(A)"
   ]
  },
  {
   "cell_type": "markdown",
   "metadata": {},
   "source": [
    "Call the solver"
   ]
  },
  {
   "cell_type": "code",
   "execution_count": 30,
   "metadata": {},
   "outputs": [
    {
     "name": "stdout",
     "output_type": "stream",
     "text": [
      "Solution is optimal. Score went from 90 to 132. We keep 6 samples and 22 features.\n"
     ]
    }
   ],
   "source": [
    "c, G, h = matrix(w), matrix(G.T), matrix(h)\n",
    "status, sol = glpk.ilp(c, G.T, h, B=set(range(len(c))))\n",
    "solution = np.array(sol)\n",
    "solution_row = solution[0:m]\n",
    "solution_col = solution[m:m+n]\n",
    "solution_mat = solution[m+n:].reshape((m,n))\n",
    "print('Solution is {0}. Score went from {1} to {2}. We keep {3} samples and {4} features.'.format(status, np.sum(1-A), int(np.sum(1-solution_mat)), int(np.sum(1-solution_col)), int(np.sum(1-solution_row))))"
   ]
  },
  {
   "cell_type": "markdown",
   "metadata": {},
   "source": [
    "Let's see what the initial and optimized $A$ matrix look like:"
   ]
  },
  {
   "cell_type": "code",
   "execution_count": 31,
   "metadata": {},
   "outputs": [
    {
     "data": {
      "image/png": "[encoded data removed]",
      "text/plain": [
       "<Figure size 288x288 with 2 Axes>"
      ]
     },
     "metadata": {},
     "output_type": "display_data"
    },
    {
     "data": {
      "image/png": "[encoded data removed]",
      "text/plain": [
       "<Figure size 288x288 with 2 Axes>"
      ]
     },
     "metadata": {},
     "output_type": "display_data"
    }
   ],
   "source": [
    "show_matrix(A)\n",
    "show_matrix(1-solution_mat)"
   ]
  },
  {
   "cell_type": "markdown",
   "metadata": {},
   "source": [
    "Let's see what would have happened if we wanted to minimize the number of discarded samples:"
   ]
  },
  {
   "cell_type": "code",
   "execution_count": 33,
   "metadata": {},
   "outputs": [
    {
     "name": "stdout",
     "output_type": "stream",
     "text": [
      "G.shape = (2000, 560)\n",
      "h.shape = (2000,)\n",
      "w.shape = (560,)\n",
      "Solution is optimal. Score went from 90 to 80. We keep 10 samples and 8 features.\n"
     ]
    },
    {
     "data": {
      "image/png": "[encoded data removed]",
      "text/plain": [
       "<Figure size 288x288 with 2 Axes>"
      ]
     },
     "metadata": {},
     "output_type": "display_data"
    },
    {
     "data": {
      "image/png": "[encoded data removed]",
      "text/plain": [
       "<Figure size 288x288 with 2 Axes>"
      ]
     },
     "metadata": {},
     "output_type": "display_data"
    }
   ],
   "source": [
    "G = assemble_G(A,G1,G2,G3,G4)\n",
    "h = assemble_h(A,h1,h2,h3,h4)\n",
    "w = assemble_w(A, mode='c')\n",
    "c, G, h = matrix(w), matrix(G.T), matrix(h)\n",
    "status, sol = glpk.ilp(c, G.T, h, B=set(range(len(c))))\n",
    "solution = np.array(sol)\n",
    "solution_row = solution[0:m]\n",
    "solution_col = solution[m:m+n]\n",
    "solution_mat = solution[m+n:].reshape((m,n))\n",
    "print('Solution is {0}. Score went from {1} to {2}. We keep {3} samples and {4} features.'.format(status, np.sum(1-A), int(np.sum(1-solution_mat)), int(np.sum(1-solution_col)), int(np.sum(1-solution_row))))\n",
    "show_matrix(A)\n",
    "show_matrix(1-solution_mat)"
   ]
  },
  {
   "cell_type": "markdown",
   "metadata": {},
   "source": [
    "Now if we decided to minimize the number of discarded features:"
   ]
  },
  {
   "cell_type": "code",
   "execution_count": 34,
   "metadata": {},
   "outputs": [
    {
     "name": "stdout",
     "output_type": "stream",
     "text": [
      "G.shape = (2000, 560)\n",
      "h.shape = (2000,)\n",
      "w.shape = (560,)\n",
      "Solution is optimal. Score went from 90 to 0. We keep 0 samples and 50 features.\n"
     ]
    },
    {
     "data": {
      "image/png": "[encoded data removed]",
      "text/plain": [
       "<Figure size 288x288 with 2 Axes>"
      ]
     },
     "metadata": {},
     "output_type": "display_data"
    },
    {
     "data": {
      "image/png": "[encoded data removed]",
      "text/plain": [
       "<Figure size 288x288 with 2 Axes>"
      ]
     },
     "metadata": {},
     "output_type": "display_data"
    }
   ],
   "source": [
    "G = assemble_G(A,G1,G2,G3,G4)\n",
    "h = assemble_h(A,h1,h2,h3,h4)\n",
    "w = assemble_w(A, mode='r')\n",
    "c, G, h = matrix(w), matrix(G.T), matrix(h)\n",
    "status, sol = glpk.ilp(c, G.T, h, B=set(range(len(c))))\n",
    "solution = np.array(sol)\n",
    "solution_row = solution[0:m]\n",
    "solution_col = solution[m:m+n]\n",
    "solution_mat = solution[m+n:].reshape((m,n))\n",
    "print('Solution is {0}. Score went from {1} to {2}. We keep {3} samples and {4} features.'.format(status, np.sum(1-A), int(np.sum(1-solution_mat)), int(np.sum(1-solution_col)), int(np.sum(1-solution_row))))\n",
    "show_matrix(A)\n",
    "show_matrix(1-solution_mat)"
   ]
  },
  {
   "cell_type": "markdown",
   "metadata": {},
   "source": [
    "Let's try some in-between ?"
   ]
  },
  {
   "cell_type": "code",
   "execution_count": 35,
   "metadata": {},
   "outputs": [
    {
     "name": "stdout",
     "output_type": "stream",
     "text": [
      "G.shape = (2000, 560)\n",
      "h.shape = (2000,)\n",
      "w.shape = (560,)\n",
      "Solution is optimal. Score went from 90 to 130. We keep 5 samples and 26 features.\n"
     ]
    },
    {
     "data": {
      "image/png": "[encoded data removed]",
      "text/plain": [
       "<Figure size 288x288 with 2 Axes>"
      ]
     },
     "metadata": {},
     "output_type": "display_data"
    },
    {
     "data": {
      "image/png": "[encoded data removed]",
      "text/plain": [
       "<Figure size 288x288 with 2 Axes>"
      ]
     },
     "metadata": {},
     "output_type": "display_data"
    }
   ],
   "source": [
    "G = assemble_G(A,G1,G2,G3,G4)\n",
    "h = assemble_h(A,h1,h2,h3,h4)\n",
    "w = assemble_w(A, mode='all')\n",
    "c, G, h = matrix(w), matrix(G.T), matrix(h)\n",
    "status, sol = glpk.ilp(c, G.T, h, B=set(range(len(c))))\n",
    "solution = np.array(sol)\n",
    "solution_row = solution[0:m]\n",
    "solution_col = solution[m:m+n]\n",
    "solution_mat = solution[m+n:].reshape((m,n))\n",
    "print('Solution is {0}. Score went from {1} to {2}. We keep {3} samples and {4} features.'.format(status, np.sum(1-A), int(np.sum(1-solution_mat)), int(np.sum(1-solution_col)), int(np.sum(1-solution_row))))\n",
    "show_matrix(A)\n",
    "show_matrix(1-solution_mat)"
   ]
  },
  {
   "cell_type": "markdown",
   "metadata": {},
   "source": [
    "## Conclusion\n",
    "\n",
    "We could get even more creative on the scoring function, but it's seems that minimizing the number of discarded elements under the constraints that an element removed removes all elements from its row and column, works pretty well!"
   ]
  },
  {
   "cell_type": "markdown",
   "metadata": {},
   "source": [
    "## Toolkit"
   ]
  },
  {
   "cell_type": "code",
   "execution_count": 4,
   "metadata": {},
   "outputs": [],
   "source": [
    "def build_A(n_sample=5, n_feature=20, n_zeros=10):\n",
    "    A = np.ones((n_feature*n_sample)).astype('int')\n",
    "    index = np.random.randint(0,high=A.shape[0], size=n_zeros)\n",
    "    A[index] = 0\n",
    "    A = np.reshape(A, (n_feature,n_sample))\n",
    "    print('A.shape = {0}'.format(A.shape))\n",
    "    return A\n",
    "\n",
    "def assemble_w(A, mode='e'):\n",
    "    \"\"\"\n",
    "    \"\"\"\n",
    "    m, n = A.shape\n",
    "    if(mode=='all'):\n",
    "        wr = 1\n",
    "        wc = 1\n",
    "        we = 1\n",
    "    else:\n",
    "        wr = 0\n",
    "        if(mode=='r'):\n",
    "            wr=1\n",
    "        wc = 0\n",
    "        if(mode=='c'):\n",
    "            wc=1\n",
    "        we = 0\n",
    "        if(mode=='e'):\n",
    "            we=1\n",
    "    w = np.empty(n+m+n*m)\n",
    "    w[0:m]   = wr\n",
    "    w[m:m+n] = wc\n",
    "    w[n+m:n+m+n*m] = we\n",
    "    print('w.shape = {0}'.format(w.shape))\n",
    "    return w.astype('double')\n",
    "\n",
    "def assemble_h(A,h1,h2,h3,h4):\n",
    "    \"\"\"\n",
    "    \"\"\"\n",
    "    m, n = A.shape\n",
    "    nrows = m*n\n",
    "    h = np.empty(4*nrows)\n",
    "    h[0:nrows]         = h1\n",
    "    h[nrows:2*nrows]   = h2\n",
    "    h[2*nrows:3*nrows] = h3\n",
    "    h[3*nrows:4*nrows] = h4\n",
    "    print('h.shape = {0}'.format(h.shape))\n",
    "    return -h.astype('double')\n",
    "\n",
    "def assemble_G(A,G1,G2,G3,G4):\n",
    "    \"\"\"\n",
    "    \"\"\"\n",
    "    m, n = A.shape\n",
    "    nrows = m*n\n",
    "    ncols = m + n + m*n\n",
    "    G = np.empty((4*nrows,ncols))\n",
    "    G[0:nrows,:]         = G1\n",
    "    G[nrows:2*nrows,:]   = G2\n",
    "    G[2*nrows:3*nrows,:] = G3\n",
    "    G[3*nrows:4*nrows,:] = G4\n",
    "    print('G.shape = {0}'.format(G.shape))\n",
    "    return -G.astype('double')\n",
    "\n",
    "def build_h(A, constraint=1): #n_sample=5, n_feature=20):\n",
    "    \"\"\"\n",
    "    \"\"\"\n",
    "    m, n = A.shape\n",
    "    nrows = m*n\n",
    "    if(constraint==1):\n",
    "        h = np.invert(A.reshape(nrows).astype('bool')).astype('int')\n",
    "    else:\n",
    "        h = np.zeros(nrows)\n",
    "    print('h.shape = {0}'.format(h.shape))\n",
    "    return h\n",
    "\n",
    "def build_G(A, constraint=1):\n",
    "    \"\"\"\n",
    "    \"\"\"\n",
    "    m, n = A.shape\n",
    "    nrows = m*n\n",
    "    ncols = m + n + m*n\n",
    "    Gr = build_Gr(m,n,constraint=constraint)\n",
    "    Gc = build_Gc(m,n,constraint=constraint)\n",
    "    Ge = build_Ge(m,n,constraint=constraint)\n",
    "    G  = np.zeros((nrows,ncols))\n",
    "    G[:,0:m]   = Gr\n",
    "    G[:,m:m+n] = Gc\n",
    "    G[:,m+n:]  = Ge\n",
    "    print('G.shape = {0}'.format(G.shape))\n",
    "    return G\n",
    "\n",
    "def build_Gr(m,n,constraint=1):\n",
    "    nrows = m*n\n",
    "    Gr = np.zeros((nrows,m))\n",
    "    if(constraint==2):\n",
    "        for i in np.arange(m):\n",
    "            Gr[i*n:(i+1)*n,i] = 1\n",
    "    elif(constraint==3):\n",
    "        for i in np.arange(m):\n",
    "            Gr[i*n:(i+1)*n,i] = -1\n",
    "    print('... Gr built')\n",
    "    return Gr\n",
    "        \n",
    "def build_Gc(m,n,constraint=1):\n",
    "    nrows = m*n\n",
    "    Gc = np.zeros((nrows,n))\n",
    "    if(constraint==2):\n",
    "        for i in np.arange(m): \n",
    "            Gc[i*n:(i+1)*n,:] = np.identity(n)\n",
    "    elif(constraint==4):\n",
    "        for i in np.arange(m):\n",
    "            Gc[i*n:(i+1)*n,:] = -np.identity(n)\n",
    "    print('... Gc built')\n",
    "    return Gc\n",
    "\n",
    "def build_Ge(m,n,constraint=1):\n",
    "    nrows = m*n\n",
    "    Ge = np.identity(nrows)\n",
    "    if(constraint==2):\n",
    "        Ge = -Ge\n",
    "    print('... Ge built')\n",
    "    return Ge\n",
    "    "
   ]
  },
  {
   "cell_type": "code",
   "execution_count": 5,
   "metadata": {},
   "outputs": [],
   "source": [
    "def show_matrix(X, cmap='Greys_r', figsize=(4,4)):\n",
    "    fig = plt.figure(figsize=figsize)\n",
    "    plt.imshow(X, cmap=cmap, aspect='auto')\n",
    "    plt.colorbar()\n",
    "    plt.show()"
   ]
  },
  {
   "cell_type": "code",
   "execution_count": null,
   "metadata": {},
   "outputs": [],
   "source": []
  }
 ],
 "metadata": {
  "kernelspec": {
   "display_name": "Python 3",
   "language": "python",
   "name": "python3"
  },
  "language_info": {
   "codemirror_mode": {
    "name": "ipython",
    "version": 3
   },
   "file_extension": ".py",
   "mimetype": "text/x-python",
   "name": "python",
   "nbconvert_exporter": "python",
   "pygments_lexer": "ipython3",
   "version": "3.6.3"
  }
 },
 "nbformat": 4,
 "nbformat_minor": 2
}
