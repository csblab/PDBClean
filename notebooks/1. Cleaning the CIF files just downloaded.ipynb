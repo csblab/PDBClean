{
 "cells": [
  {
   "cell_type": "markdown",
   "metadata": {},
   "source": [
    "# 1. Cleaning the CIF files just downloaded\n",
    "\n",
    "**This notebook: [see on github](https://github.com/csblab/PDBClean/blob/master/notebooks/1.%20Cleaning%20the%20CIF%20files%20just%20downloaded.ipynb) or [run on google colab](https://colab.research.google.com/github/csblab/PDBClean/blob/master/notebooks/1.%20Cleaning%20the%20CIF%20files%20just%20downloaded.ipynb)**"
   ]
  },
  {
   "cell_type": "code",
   "execution_count": 6,
   "metadata": {},
   "outputs": [],
   "source": [
    "colab=False\n",
    "if colab:\n",
    "    RUNDIR='./'\n",
    "else:\n",
    "    RUNDIR='../examples/'"
   ]
  },
  {
   "cell_type": "code",
   "execution_count": 4,
   "metadata": {},
   "outputs": [],
   "source": [
    "from PDBClean import pdbclean_io, pdbutils, cleanutils"
   ]
  },
  {
   "cell_type": "markdown",
   "metadata": {},
   "source": [
    "We assume here that the project was initialized and CIF files downloaded"
   ]
  },
  {
   "cell_type": "code",
   "execution_count": 5,
   "metadata": {},
   "outputs": [
    {
     "name": "stdout",
     "output_type": "stream",
     "text": [
      "../examples/AKproject already exists, with content:\n",
      "['info.txt', 'raw_bank', 'simple_bank', 'clean_bank', 'standard_MolID_bank', 'fixHET_bank', 'standard_ChainID_bank', 'standard_MolID_bank_MANUALFIX', 'standard_ResidueID_bank', 'A.fa', 'A.afa', 'final_bank']\n"
     ]
    }
   ],
   "source": [
    "PROJDIR=RUNDIR+'AKproject'\n",
    "pdbclean_io.check_project(projdir=PROJDIR)"
   ]
  },
  {
   "cell_type": "markdown",
   "metadata": {},
   "source": [
    "## Create clean CIF files from raw CIF files\n",
    "First we check that the directory that will hold the clean CIF files is created"
   ]
  },
  {
   "cell_type": "code",
   "execution_count": 3,
   "metadata": {},
   "outputs": [
    {
     "name": "stdout",
     "output_type": "stream",
     "text": [
      "../examples/AKproject/clean_bank already exists, with content:\n",
      "['info.txt', '1kht.cif', '1ki9.cif', '2ar7.cif', '2bbw.cif', '5x6k.cif', '5x6l.cif', '5xru.cif', '5ycb.cif', '5ycc.cif', '6hf7.cif']\n"
     ]
    }
   ],
   "source": [
    "pdbclean_io.check_project(projdir=PROJDIR, level='clean_bank')"
   ]
  },
  {
   "cell_type": "code",
   "execution_count": 4,
   "metadata": {},
   "outputs": [
    {
     "name": "stdout",
     "output_type": "stream",
     "text": [
      "[1/10]: 1kht.cif\n",
      "[2/10]: 1ki9.cif\n",
      "[3/10]: 2ar7.cif\n",
      "[4/10]: 2bbw.cif\n",
      "[5/10]: 5x6k.cif\n",
      "[6/10]: 5x6l.cif\n",
      "[7/10]: 5xru.cif\n",
      "[8/10]: 5ycb.cif\n",
      "[9/10]: 5ycc.cif\n",
      "[10/10]: 6hf7.cif\n"
     ]
    }
   ],
   "source": [
    "cleanutils.process(projdir=PROJDIR, step='clean', source='raw_bank', target='clean_bank')"
   ]
  },
  {
   "cell_type": "markdown",
   "metadata": {},
   "source": [
    "## Simplify and split in biological assemblies"
   ]
  },
  {
   "cell_type": "code",
   "execution_count": 5,
   "metadata": {},
   "outputs": [
    {
     "name": "stdout",
     "output_type": "stream",
     "text": [
      "../examples/AKproject/simple_bank already exists, with content:\n",
      "['info.txt', '1kht+01.cif', '1kht+02.cif', '1ki9+01.cif', '1ki9+02.cif', '2ar7+01.cif', '2ar7+02.cif', '2ar7+03.cif', '2ar7+04.cif', '2ar7+05.cif', '2ar7+06.cif', '2ar7+07.cif', '2bbw+01.cif', '2bbw+02.cif', '5x6k+01.cif', '5x6k+02.cif', '5x6l+01.cif', '5x6l+02.cif', '5xru+01.cif', '5xru+02.cif', '5ycb+01.cif', '5ycb+02.cif', '5ycc+01.cif', '5ycc+02.cif', '6hf7+00.cif', 'MolIDStandardizedCIF']\n"
     ]
    }
   ],
   "source": [
    "pdbclean_io.check_project(projdir=PROJDIR, level='simple_bank')"
   ]
  },
  {
   "cell_type": "code",
   "execution_count": 6,
   "metadata": {},
   "outputs": [
    {
     "name": "stdout",
     "output_type": "stream",
     "text": [
      "[1/10]: 1kht.cif\n",
      "[2/10]: 1ki9.cif\n",
      "[3/10]: 2ar7.cif\n",
      "[4/10]: 2bbw.cif\n",
      "[5/10]: 5x6k.cif\n",
      "[6/10]: 5x6l.cif\n",
      "[7/10]: 5xru.cif\n",
      "[8/10]: 5ycb.cif\n",
      "[9/10]: 5ycc.cif\n",
      "[10/10]: 6hf7.cif\n"
     ]
    }
   ],
   "source": [
    "cleanutils.process(projdir=PROJDIR, step='simplify', source='clean_bank', target='simple_bank')"
   ]
  },
  {
   "cell_type": "code",
   "execution_count": null,
   "metadata": {},
   "outputs": [],
   "source": []
  }
 ],
 "metadata": {
  "kernelspec": {
   "display_name": "Python 3",
   "language": "python",
   "name": "python3"
  },
  "language_info": {
   "codemirror_mode": {
    "name": "ipython",
    "version": 3
   },
   "file_extension": ".py",
   "mimetype": "text/x-python",
   "name": "python",
   "nbconvert_exporter": "python",
   "pygments_lexer": "ipython3",
   "version": "3.6.3"
  }
 },
 "nbformat": 4,
 "nbformat_minor": 2
}
