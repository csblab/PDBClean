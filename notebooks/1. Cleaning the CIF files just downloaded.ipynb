{
 "cells": [
  {
   "cell_type": "code",
   "execution_count": 1,
   "metadata": {},
   "outputs": [],
   "source": [
    "import sys\n",
    "sys.path.append('../src/')\n",
    "import pdbclean_io\n",
    "import cleanutils"
   ]
  },
  {
   "cell_type": "markdown",
   "metadata": {},
   "source": [
    "We assume here that the project was initialized and CIF files downloaded"
   ]
  },
  {
   "cell_type": "code",
   "execution_count": 2,
   "metadata": {},
   "outputs": [
    {
     "name": "stdout",
     "output_type": "stream",
     "text": [
      "../examples/AKproject already exists, with content:\n",
      "['info.txt', 'raw_bank', 'simple_bank']\n"
     ]
    }
   ],
   "source": [
    "PROJDIR='../examples/AKproject'\n",
    "pdbclean_io.check_project(projdir=PROJDIR)"
   ]
  },
  {
   "cell_type": "markdown",
   "metadata": {},
   "source": [
    "# Create clean CIF files from raw CIF files\n",
    "First we check that the directory that will hold the clean CIF files is created"
   ]
  },
  {
   "cell_type": "code",
   "execution_count": 3,
   "metadata": {},
   "outputs": [],
   "source": [
    "pdbclean_io.check_project(projdir=PROJDIR, level='clean_bank')"
   ]
  },
  {
   "cell_type": "code",
   "execution_count": 4,
   "metadata": {},
   "outputs": [
    {
     "name": "stdout",
     "output_type": "stream",
     "text": [
      "[1/10]: 1kht.cif\n",
      "[2/10]: 1ki9.cif\n",
      "[3/10]: 2ar7.cif\n",
      "[4/10]: 2bbw.cif\n",
      "[5/10]: 5x6k.cif\n",
      "[6/10]: 5x6l.cif\n",
      "[7/10]: 5xru.cif\n",
      "[8/10]: 5ycb.cif\n",
      "[9/10]: 5ycc.cif\n",
      "[10/10]: 6hf7.cif\n"
     ]
    }
   ],
   "source": [
    "cleanutils.process(projdir=PROJDIR, step='clean', source='raw_bank', target='clean_bank')"
   ]
  },
  {
   "cell_type": "markdown",
   "metadata": {},
   "source": [
    "# Simplify and split in biological assemblies"
   ]
  },
  {
   "cell_type": "code",
   "execution_count": 5,
   "metadata": {},
   "outputs": [
    {
     "name": "stdout",
     "output_type": "stream",
     "text": [
      "../examples/AKproject/simple_bank already exists, with content:\n",
      "['info.txt']\n"
     ]
    }
   ],
   "source": [
    "pdbclean_io.check_project(projdir=PROJDIR, level='simple_bank')"
   ]
  },
  {
   "cell_type": "code",
   "execution_count": 6,
   "metadata": {},
   "outputs": [
    {
     "name": "stdout",
     "output_type": "stream",
     "text": [
      "[1/10]: 1kht.cif\n",
      "[2/10]: 1ki9.cif\n",
      "[3/10]: 2ar7.cif\n",
      "[4/10]: 2bbw.cif\n",
      "[5/10]: 5x6k.cif\n",
      "[6/10]: 5x6l.cif\n",
      "[7/10]: 5xru.cif\n",
      "[8/10]: 5ycb.cif\n",
      "[9/10]: 5ycc.cif\n",
      "[10/10]: 6hf7.cif\n"
     ]
    }
   ],
   "source": [
    "cleanutils.process(projdir=PROJDIR, step='simplify', source='clean_bank', target='simple_bank')"
   ]
  },
  {
   "cell_type": "code",
   "execution_count": null,
   "metadata": {},
   "outputs": [],
   "source": []
  }
 ],
 "metadata": {
  "kernelspec": {
   "display_name": "Python 3",
   "language": "python",
   "name": "python3"
  },
  "language_info": {
   "codemirror_mode": {
    "name": "ipython",
    "version": 3
   },
   "file_extension": ".py",
   "mimetype": "text/x-python",
   "name": "python",
   "nbconvert_exporter": "python",
   "pygments_lexer": "ipython3",
   "version": "3.6.3"
  }
 },
 "nbformat": 4,
 "nbformat_minor": 2
}
